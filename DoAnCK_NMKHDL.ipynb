{
 "cells": [
  {
   "attachments": {},
   "cell_type": "markdown",
   "metadata": {},
   "source": [
    "# Câu hỏi: Liệu có thể phân loại được các bài báo theo từng chủ đề hay không?"
   ]
  },
  {
   "cell_type": "markdown",
   "metadata": {},
   "source": [
    "---"
   ]
  },
  {
   "cell_type": "markdown",
   "metadata": {},
   "source": [
    "## Import"
   ]
  },
  {
   "cell_type": "code",
   "execution_count": 1,
   "metadata": {},
   "outputs": [],
   "source": [
    "%matplotlib inline\n",
    "import matplotlib.pyplot as plt\n",
    "import seaborn as sns # seaborn là thư viện được xây trên matplotlib, giúp việc visualization đỡ khổ hơn\n",
    "import requests\n",
    "import numpy as np\n",
    "import pandas as pd\n",
    "import time # để sleep chương trình\n",
    "from bs4 import BeautifulSoup\n",
    "from pyvi import ViTokenizer # thư viện NLP tiếng Việt\n",
    "from sklearn.feature_extraction.text import TfidfVectorizer\n",
    "from sklearn.model_selection import train_test_split\n",
    "from sklearn.preprocessing import LabelEncoder\n",
    "from sklearn.metrics import accuracy_score\n",
    "from sklearn.pipeline import Pipeline\n",
    "#Mô hình phân lớp\n",
    "from sklearn.naive_bayes import MultinomialNB"
   ]
  },
  {
   "cell_type": "markdown",
   "metadata": {},
   "source": [
    "---"
   ]
  },
  {
   "cell_type": "markdown",
   "metadata": {},
   "source": [
    "## Thu thập dữ liệu"
   ]
  },
  {
   "cell_type": "markdown",
   "metadata": {},
   "source": [
    "Hàm `split_word` ở bên dưới có input:\n",
    "- `articles`: là một dictionary với key là chủ đề bài báo, value: là một list nội dung các bài báo trong chủ đề đó.\n",
    "\n",
    "Output: Trả về biến `articles` sau khi đã tách các từ trong văn bản"
   ]
  },
  {
   "cell_type": "code",
   "execution_count": 2,
   "metadata": {},
   "outputs": [],
   "source": [
    "def split_word(df):\n",
    "    for i in range(len(df['Nội dung văn bản'])):\n",
    "        df['Nội dung văn bản'][i] =  ViTokenizer.tokenize(df['Nội dung văn bản'][i])\n",
    "    return df"
   ]
  },
  {
   "cell_type": "markdown",
   "metadata": {},
   "source": [
    "Đầu tiên ta sẽ lấy dữ liệu đã thu thập được từ file `data.csv`"
   ]
  },
  {
   "cell_type": "code",
   "execution_count": 3,
   "metadata": {},
   "outputs": [
    {
     "data": {
      "text/html": [
       "<div>\n",
       "<style scoped>\n",
       "    .dataframe tbody tr th:only-of-type {\n",
       "        vertical-align: middle;\n",
       "    }\n",
       "\n",
       "    .dataframe tbody tr th {\n",
       "        vertical-align: top;\n",
       "    }\n",
       "\n",
       "    .dataframe thead th {\n",
       "        text-align: right;\n",
       "    }\n",
       "</style>\n",
       "<table border=\"1\" class=\"dataframe\">\n",
       "  <thead>\n",
       "    <tr style=\"text-align: right;\">\n",
       "      <th></th>\n",
       "      <th>Nội dung văn bản</th>\n",
       "      <th>Chủ đề</th>\n",
       "    </tr>\n",
       "  </thead>\n",
       "  <tbody>\n",
       "    <tr>\n",
       "      <th>0</th>\n",
       "      <td>Bắn thuốc mê di dời đàn khỉ trong khu dân cư...</td>\n",
       "      <td>thoi-su</td>\n",
       "    </tr>\n",
       "    <tr>\n",
       "      <th>1</th>\n",
       "      <td>Lớp học bằng ván gỗ cũ nát ở vùng cao Lạng S...</td>\n",
       "      <td>thoi-su</td>\n",
       "    </tr>\n",
       "    <tr>\n",
       "      <th>2</th>\n",
       "      <td></td>\n",
       "      <td>thoi-su</td>\n",
       "    </tr>\n",
       "    <tr>\n",
       "      <th>3</th>\n",
       "      <td>Sài Gòn xuống 19 độ C Ảnh hưởng không khí lạ...</td>\n",
       "      <td>thoi-su</td>\n",
       "    </tr>\n",
       "    <tr>\n",
       "      <th>4</th>\n",
       "      <td></td>\n",
       "      <td>thoi-su</td>\n",
       "    </tr>\n",
       "    <tr>\n",
       "      <th>...</th>\n",
       "      <td>...</td>\n",
       "      <td>...</td>\n",
       "    </tr>\n",
       "    <tr>\n",
       "      <th>2446</th>\n",
       "      <td>Lễ hội áo dài sắp diễn ra bên bờ sông Hương ...</td>\n",
       "      <td>du-lich</td>\n",
       "    </tr>\n",
       "    <tr>\n",
       "      <th>2447</th>\n",
       "      <td>Trên máy bay không phải chỗ nào cũng cho trẻ...</td>\n",
       "      <td>du-lich</td>\n",
       "    </tr>\n",
       "    <tr>\n",
       "      <th>2448</th>\n",
       "      <td>Cắm trại đón Giáng sinh trong sân bay Singap...</td>\n",
       "      <td>du-lich</td>\n",
       "    </tr>\n",
       "    <tr>\n",
       "      <th>2449</th>\n",
       "      <td>Saigontourist Group khuyến mại lớn dịp Giáng...</td>\n",
       "      <td>du-lich</td>\n",
       "    </tr>\n",
       "    <tr>\n",
       "      <th>2450</th>\n",
       "      <td>Lợi ích khi là khách hàng thân thiết của côn...</td>\n",
       "      <td>du-lich</td>\n",
       "    </tr>\n",
       "  </tbody>\n",
       "</table>\n",
       "<p>2451 rows × 2 columns</p>\n",
       "</div>"
      ],
      "text/plain": [
       "                                       Nội dung văn bản   Chủ đề\n",
       "0       Bắn thuốc mê di dời đàn khỉ trong khu dân cư...  thoi-su\n",
       "1       Lớp học bằng ván gỗ cũ nát ở vùng cao Lạng S...  thoi-su\n",
       "2                                                        thoi-su\n",
       "3       Sài Gòn xuống 19 độ C Ảnh hưởng không khí lạ...  thoi-su\n",
       "4                                                        thoi-su\n",
       "...                                                 ...      ...\n",
       "2446    Lễ hội áo dài sắp diễn ra bên bờ sông Hương ...  du-lich\n",
       "2447    Trên máy bay không phải chỗ nào cũng cho trẻ...  du-lich\n",
       "2448    Cắm trại đón Giáng sinh trong sân bay Singap...  du-lich\n",
       "2449    Saigontourist Group khuyến mại lớn dịp Giáng...  du-lich\n",
       "2450    Lợi ích khi là khách hàng thân thiết của côn...  du-lich\n",
       "\n",
       "[2451 rows x 2 columns]"
      ]
     },
     "execution_count": 3,
     "metadata": {},
     "output_type": "execute_result"
    }
   ],
   "source": [
    "data_df = pd.read_csv('DataLink.txt', index_col = 0)\n",
    "data_df"
   ]
  },
  {
   "cell_type": "markdown",
   "metadata": {},
   "source": [
    "Sau đó ta thực hiện tách từ trong dữ liệu bằng hàm `split_word`"
   ]
  },
  {
   "cell_type": "code",
   "execution_count": 4,
   "metadata": {},
   "outputs": [
    {
     "data": {
      "text/html": [
       "<div>\n",
       "<style scoped>\n",
       "    .dataframe tbody tr th:only-of-type {\n",
       "        vertical-align: middle;\n",
       "    }\n",
       "\n",
       "    .dataframe tbody tr th {\n",
       "        vertical-align: top;\n",
       "    }\n",
       "\n",
       "    .dataframe thead th {\n",
       "        text-align: right;\n",
       "    }\n",
       "</style>\n",
       "<table border=\"1\" class=\"dataframe\">\n",
       "  <thead>\n",
       "    <tr style=\"text-align: right;\">\n",
       "      <th></th>\n",
       "      <th>Nội dung văn bản</th>\n",
       "      <th>Chủ đề</th>\n",
       "    </tr>\n",
       "  </thead>\n",
       "  <tbody>\n",
       "    <tr>\n",
       "      <th>0</th>\n",
       "      <td>Bắn thuốc_mê di_dời đàn khỉ trong khu dân_cư S...</td>\n",
       "      <td>thoi-su</td>\n",
       "    </tr>\n",
       "    <tr>\n",
       "      <th>1</th>\n",
       "      <td>Lớp_học bằng ván gỗ cũ nát ở vùng_cao Lạng Sơn...</td>\n",
       "      <td>thoi-su</td>\n",
       "    </tr>\n",
       "    <tr>\n",
       "      <th>2</th>\n",
       "      <td></td>\n",
       "      <td>thoi-su</td>\n",
       "    </tr>\n",
       "    <tr>\n",
       "      <th>3</th>\n",
       "      <td>Sài_Gòn xuống 19 độ C Ảnh_hưởng không_khí lạnh...</td>\n",
       "      <td>thoi-su</td>\n",
       "    </tr>\n",
       "    <tr>\n",
       "      <th>4</th>\n",
       "      <td></td>\n",
       "      <td>thoi-su</td>\n",
       "    </tr>\n",
       "    <tr>\n",
       "      <th>...</th>\n",
       "      <td>...</td>\n",
       "      <td>...</td>\n",
       "    </tr>\n",
       "    <tr>\n",
       "      <th>2446</th>\n",
       "      <td>Lễ_hội áo_dài sắp diễn ra bên bờ sông Hương Th...</td>\n",
       "      <td>du-lich</td>\n",
       "    </tr>\n",
       "    <tr>\n",
       "      <th>2447</th>\n",
       "      <td>Trên máy_bay không phải chỗ nào cũng cho trẻ_e...</td>\n",
       "      <td>du-lich</td>\n",
       "    </tr>\n",
       "    <tr>\n",
       "      <th>2448</th>\n",
       "      <td>Cắm trại đón Giáng_sinh trong sân_bay Singapor...</td>\n",
       "      <td>du-lich</td>\n",
       "    </tr>\n",
       "    <tr>\n",
       "      <th>2449</th>\n",
       "      <td>Saigontourist_Group khuyến_mại lớn dịp Giáng_s...</td>\n",
       "      <td>du-lich</td>\n",
       "    </tr>\n",
       "    <tr>\n",
       "      <th>2450</th>\n",
       "      <td>Lợi_ích khi là khách_hàng thân_thiết của công_...</td>\n",
       "      <td>du-lich</td>\n",
       "    </tr>\n",
       "  </tbody>\n",
       "</table>\n",
       "<p>2451 rows × 2 columns</p>\n",
       "</div>"
      ],
      "text/plain": [
       "                                       Nội dung văn bản   Chủ đề\n",
       "0     Bắn thuốc_mê di_dời đàn khỉ trong khu dân_cư S...  thoi-su\n",
       "1     Lớp_học bằng ván gỗ cũ nát ở vùng_cao Lạng Sơn...  thoi-su\n",
       "2                                                        thoi-su\n",
       "3     Sài_Gòn xuống 19 độ C Ảnh_hưởng không_khí lạnh...  thoi-su\n",
       "4                                                        thoi-su\n",
       "...                                                 ...      ...\n",
       "2446  Lễ_hội áo_dài sắp diễn ra bên bờ sông Hương Th...  du-lich\n",
       "2447  Trên máy_bay không phải chỗ nào cũng cho trẻ_e...  du-lich\n",
       "2448  Cắm trại đón Giáng_sinh trong sân_bay Singapor...  du-lich\n",
       "2449  Saigontourist_Group khuyến_mại lớn dịp Giáng_s...  du-lich\n",
       "2450  Lợi_ích khi là khách_hàng thân_thiết của công_...  du-lich\n",
       "\n",
       "[2451 rows x 2 columns]"
      ]
     },
     "execution_count": 4,
     "metadata": {},
     "output_type": "execute_result"
    }
   ],
   "source": [
    "data_df = split_word(data_df)\n",
    "data_df"
   ]
  },
  {
   "cell_type": "markdown",
   "metadata": {},
   "source": [
    "---"
   ]
  },
  {
   "cell_type": "markdown",
   "metadata": {},
   "source": [
    "## Khám phá dữ liệu"
   ]
  },
  {
   "cell_type": "code",
   "execution_count": 5,
   "metadata": {},
   "outputs": [
    {
     "data": {
      "text/html": [
       "<div>\n",
       "<style scoped>\n",
       "    .dataframe tbody tr th:only-of-type {\n",
       "        vertical-align: middle;\n",
       "    }\n",
       "\n",
       "    .dataframe tbody tr th {\n",
       "        vertical-align: top;\n",
       "    }\n",
       "\n",
       "    .dataframe thead th {\n",
       "        text-align: right;\n",
       "    }\n",
       "</style>\n",
       "<table border=\"1\" class=\"dataframe\">\n",
       "  <thead>\n",
       "    <tr style=\"text-align: right;\">\n",
       "      <th></th>\n",
       "      <th>Nội dung văn bản</th>\n",
       "      <th>Chủ đề</th>\n",
       "    </tr>\n",
       "  </thead>\n",
       "  <tbody>\n",
       "    <tr>\n",
       "      <th>0</th>\n",
       "      <td>Bắn thuốc_mê di_dời đàn khỉ trong khu dân_cư S...</td>\n",
       "      <td>thoi-su</td>\n",
       "    </tr>\n",
       "    <tr>\n",
       "      <th>1</th>\n",
       "      <td>Lớp_học bằng ván gỗ cũ nát ở vùng_cao Lạng Sơn...</td>\n",
       "      <td>thoi-su</td>\n",
       "    </tr>\n",
       "    <tr>\n",
       "      <th>2</th>\n",
       "      <td></td>\n",
       "      <td>thoi-su</td>\n",
       "    </tr>\n",
       "    <tr>\n",
       "      <th>3</th>\n",
       "      <td>Sài_Gòn xuống 19 độ C Ảnh_hưởng không_khí lạnh...</td>\n",
       "      <td>thoi-su</td>\n",
       "    </tr>\n",
       "    <tr>\n",
       "      <th>4</th>\n",
       "      <td></td>\n",
       "      <td>thoi-su</td>\n",
       "    </tr>\n",
       "  </tbody>\n",
       "</table>\n",
       "</div>"
      ],
      "text/plain": [
       "                                    Nội dung văn bản   Chủ đề\n",
       "0  Bắn thuốc_mê di_dời đàn khỉ trong khu dân_cư S...  thoi-su\n",
       "1  Lớp_học bằng ván gỗ cũ nát ở vùng_cao Lạng Sơn...  thoi-su\n",
       "2                                                     thoi-su\n",
       "3  Sài_Gòn xuống 19 độ C Ảnh_hưởng không_khí lạnh...  thoi-su\n",
       "4                                                     thoi-su"
      ]
     },
     "execution_count": 5,
     "metadata": {},
     "output_type": "execute_result"
    }
   ],
   "source": [
    "data_df.head()"
   ]
  },
  {
   "cell_type": "code",
   "execution_count": 6,
   "metadata": {},
   "outputs": [
    {
     "data": {
      "text/plain": [
       "(2451, 2)"
      ]
     },
     "execution_count": 6,
     "metadata": {},
     "output_type": "execute_result"
    }
   ],
   "source": [
    "#Dữ liệu có bao nhiêu dòng và bao nhiêu cột?\n",
    "data_df.shape"
   ]
  },
  {
   "cell_type": "code",
   "execution_count": 7,
   "metadata": {},
   "outputs": [
    {
     "data": {
      "text/plain": [
       "0"
      ]
     },
     "execution_count": 7,
     "metadata": {},
     "output_type": "execute_result"
    }
   ],
   "source": [
    "# Dữ liệu có các dòng bị lặp không?\n",
    "data_df.index.duplicated().sum()"
   ]
  },
  {
   "cell_type": "code",
   "execution_count": 8,
   "metadata": {},
   "outputs": [
    {
     "data": {
      "text/plain": [
       "Nội dung văn bản    object\n",
       "Chủ đề              object\n",
       "dtype: object"
      ]
     },
     "execution_count": 8,
     "metadata": {},
     "output_type": "execute_result"
    }
   ],
   "source": [
    "#Kiểu dữ liệu của các cột\n",
    "data_df.dtypes"
   ]
  },
  {
   "cell_type": "code",
   "execution_count": 9,
   "metadata": {},
   "outputs": [
    {
     "data": {
      "text/plain": [
       "0"
      ]
     },
     "execution_count": 9,
     "metadata": {},
     "output_type": "execute_result"
    }
   ],
   "source": [
    "#Có dòng nào không lấy được nội dung văn bản không?\n",
    "data_df['Nội dung văn bản'].isna().sum()"
   ]
  },
  {
   "cell_type": "code",
   "execution_count": 10,
   "metadata": {},
   "outputs": [
    {
     "data": {
      "text/plain": [
       "0"
      ]
     },
     "execution_count": 10,
     "metadata": {},
     "output_type": "execute_result"
    }
   ],
   "source": [
    "# Cột output có giá trị thiếu không?\n",
    "data_df['Chủ đề'].isna().sum()"
   ]
  },
  {
   "cell_type": "code",
   "execution_count": 11,
   "metadata": {
    "scrolled": false
   },
   "outputs": [
    {
     "data": {
      "text/plain": [
       "suc-khoe      12.892697\n",
       "giai-tri      12.811098\n",
       "the-thao      12.647899\n",
       "kinh-doanh    12.607099\n",
       "du-lich       12.443900\n",
       "the-gioi      12.443900\n",
       "thoi-su       12.076703\n",
       "giao-duc      12.076703\n",
       "Name: Chủ đề, dtype: float64"
      ]
     },
     "execution_count": 11,
     "metadata": {},
     "output_type": "execute_result"
    }
   ],
   "source": [
    "# Tỉ lệ các lớp trong cột output?\n",
    "data_df['Chủ đề'].value_counts(normalize=True) * 100"
   ]
  },
  {
   "cell_type": "markdown",
   "metadata": {},
   "source": [
    "Nhận xét: Tập dữ liệu phân bố khá đều."
   ]
  },
  {
   "cell_type": "markdown",
   "metadata": {},
   "source": [
    "Trước khi ta đi vào tiền xử lý dữ liệu, thì ta phải phân tích cấu trúc văn bản tiếng việt để giúp việc xử lý dữ liệu chính xác và hiệu quả hơn. Đầu tiên ta sẽ lấy lại nội dung của file data.csv lưu vào biến data_raw_df tức là dữ liệu trước khi ta tách từ, lúc này vẫn còn là những từ đơn, để tiện cho việc xem xét."
   ]
  },
  {
   "cell_type": "code",
   "execution_count": 12,
   "metadata": {},
   "outputs": [],
   "source": [
    "data_raw_df = pd.read_csv('DataLink.txt', index_col = 0)"
   ]
  },
  {
   "cell_type": "markdown",
   "metadata": {},
   "source": [
    "Trong class `TfidfVectorizer` có 2 siêu tham số `min_df`và `max_df`. Ta sẽ đi tìm hiểu ý nghĩa của 2 siêu tham số trên xem thử chúng có ý nghĩa gì, và giúp được gì cho mô hình của chúng ta không!\n",
    "- max_df được sử dụng để xóa các cụm từ xuất hiện quá thường xuyên, còn được gọi là \"từ dừng cụ thể\". Ví dụ:\n",
    "\n",
    "    + max_df = 0.50 có nghĩa là \"bỏ qua các thuật ngữ xuất hiện trong hơn 50% tài liệu\".\n",
    "    + max_df = 25 có nghĩa là \"bỏ qua các thuật ngữ xuất hiện trong hơn 25 tài liệu\".\n",
    "    + max_df mặc định là 1.0, có nghĩa là \"bỏ qua các thuật ngữ xuất hiện trong hơn 100% tài liệu\". Do đó, cài đặt mặc định không bỏ qua bất kỳ thuật ngữ nào.\n",
    "\n",
    "- min_df được sử dụng để xóa các cụm từ xuất hiện quá không thường xuyên. Ví dụ:\n",
    "\n",
    "    + min_df = 0.01 có nghĩa là \"bỏ qua các thuật ngữ xuất hiện trong ít hơn 1% tài liệu\".\n",
    "    + min_df = 5 có nghĩa là \"bỏ qua các thuật ngữ xuất hiện trong ít hơn 5 tài liệu\".\n",
    "    + min_df mặc định là 1, có nghĩa là \"bỏ qua các thuật ngữ xuất hiện trong ít hơn 1 tài liệu\". Do đó, cài đặt mặc định không bỏ qua bất kỳ thuật ngữ nào."
   ]
  },
  {
   "cell_type": "markdown",
   "metadata": {},
   "source": [
    "Đầu tiên ta sẽ để các tham số trên là mặc định, tức là không xóa từ nào và in các từ này cùng với thông số IDF của chúng ra theo thứ tự idf giảm dần. Ta có thể hiểu nôm na là IDF càng cao thì tỉ lệ xuất hiện của nó trong toàn bộ các mẫu trong dữ liệu càng thấp, và ngược lại IDF càng thấp thì nó xuất hiện càng nhiều trong các mẫu trong dữ liệu, tức là gần như mẫu nào cũng có."
   ]
  },
  {
   "cell_type": "code",
   "execution_count": 13,
   "metadata": {},
   "outputs": [],
   "source": [
    "tfidf = TfidfVectorizer(analyzer='word', ngram_range=(1, 1))\n",
    "tfidf.fit_transform(data_raw_df['Nội dung văn bản'])\n",
    "feature_names = tfidf.get_feature_names()"
   ]
  },
  {
   "cell_type": "markdown",
   "metadata": {},
   "source": [
    "Sau đó ta sẽ in ra cột IDF theo thứ tự giảm dần để xem thông số IDF của các từ trong dữ liệu"
   ]
  },
  {
   "cell_type": "code",
   "execution_count": 14,
   "metadata": {},
   "outputs": [
    {
     "data": {
      "text/html": [
       "<div>\n",
       "<style scoped>\n",
       "    .dataframe tbody tr th:only-of-type {\n",
       "        vertical-align: middle;\n",
       "    }\n",
       "\n",
       "    .dataframe tbody tr th {\n",
       "        vertical-align: top;\n",
       "    }\n",
       "\n",
       "    .dataframe thead th {\n",
       "        text-align: right;\n",
       "    }\n",
       "</style>\n",
       "<table border=\"1\" class=\"dataframe\">\n",
       "  <thead>\n",
       "    <tr style=\"text-align: right;\">\n",
       "      <th></th>\n",
       "      <th>IDF</th>\n",
       "    </tr>\n",
       "  </thead>\n",
       "  <tbody>\n",
       "    <tr>\n",
       "      <th>00</th>\n",
       "      <td>8.111512</td>\n",
       "    </tr>\n",
       "    <tr>\n",
       "      <th>millan</th>\n",
       "      <td>8.111512</td>\n",
       "    </tr>\n",
       "    <tr>\n",
       "      <th>member</th>\n",
       "      <td>8.111512</td>\n",
       "    </tr>\n",
       "    <tr>\n",
       "      <th>membership</th>\n",
       "      <td>8.111512</td>\n",
       "    </tr>\n",
       "    <tr>\n",
       "      <th>membershop</th>\n",
       "      <td>8.111512</td>\n",
       "    </tr>\n",
       "    <tr>\n",
       "      <th>...</th>\n",
       "      <td>...</td>\n",
       "    </tr>\n",
       "    <tr>\n",
       "      <th>cho</th>\n",
       "      <td>1.211789</td>\n",
       "    </tr>\n",
       "    <tr>\n",
       "      <th>có</th>\n",
       "      <td>1.193807</td>\n",
       "    </tr>\n",
       "    <tr>\n",
       "      <th>của</th>\n",
       "      <td>1.182485</td>\n",
       "    </tr>\n",
       "    <tr>\n",
       "      <th>trong</th>\n",
       "      <td>1.164055</td>\n",
       "    </tr>\n",
       "    <tr>\n",
       "      <th>và</th>\n",
       "      <td>1.141721</td>\n",
       "    </tr>\n",
       "  </tbody>\n",
       "</table>\n",
       "<p>18290 rows × 1 columns</p>\n",
       "</div>"
      ],
      "text/plain": [
       "                 IDF\n",
       "00          8.111512\n",
       "millan      8.111512\n",
       "member      8.111512\n",
       "membership  8.111512\n",
       "membershop  8.111512\n",
       "...              ...\n",
       "cho         1.211789\n",
       "có          1.193807\n",
       "của         1.182485\n",
       "trong       1.164055\n",
       "và          1.141721\n",
       "\n",
       "[18290 rows x 1 columns]"
      ]
     },
     "execution_count": 14,
     "metadata": {},
     "output_type": "execute_result"
    }
   ],
   "source": [
    "document_vector=tfidf.idf_\n",
    "\n",
    "#print the scores \n",
    "df = pd.DataFrame(document_vector, index=feature_names, columns=[\"IDF\"])\n",
    "df.sort_values(by=[\"IDF\"],ascending=False)"
   ]
  },
  {
   "cell_type": "markdown",
   "metadata": {},
   "source": [
    "Nhận xét: Ta có thể thấy những từ ở trên cùng (IDF cao) là những từ không quá phổ biến trong tiếng việt (Thậm chí là tiếng anh hoặc con số). Còn những từ ở dưới cùng của bảng (IDF thấp) thì lại là những từ thông dụng mà gần như ở đâu cũng thấy (Có thể coi là stopword)."
   ]
  },
  {
   "cell_type": "markdown",
   "metadata": {},
   "source": [
    "Theo ta thấy thì với những từ quá hiếm xuất hiện sẽ có thể dẫn đến tình trạng overfit cho mô hình, ngược lại các stopword lại làm cho mô hình kém hiệu quả. Vì vậy ta muốn bỏ đi những từ có IDF quá cao (từ đặc biệt) và có IDF quá thấp (stopword) để tăng tính chính xác của mô hình. Và nhờ 2 tham số `max_df` và `min_df` của `TfidfVectorizer` sẽ giúp ta loại bỏ những từ đó đi. Vậy việc ta cần làm bây giờ là cần xác định tham số `max_df` và `min_df` nào là tốt nhất!"
   ]
  },
  {
   "cell_type": "markdown",
   "metadata": {},
   "source": [
    "Trước khi tiền xử lý ta thử tương tự như vừa rồi với `max_df=0.6` và `min_df=5` xem thử ta đã xóa được những từ nào"
   ]
  },
  {
   "cell_type": "code",
   "execution_count": 15,
   "metadata": {
    "scrolled": true
   },
   "outputs": [
    {
     "data": {
      "text/html": [
       "<div>\n",
       "<style scoped>\n",
       "    .dataframe tbody tr th:only-of-type {\n",
       "        vertical-align: middle;\n",
       "    }\n",
       "\n",
       "    .dataframe tbody tr th {\n",
       "        vertical-align: top;\n",
       "    }\n",
       "\n",
       "    .dataframe thead th {\n",
       "        text-align: right;\n",
       "    }\n",
       "</style>\n",
       "<table border=\"1\" class=\"dataframe\">\n",
       "  <thead>\n",
       "    <tr style=\"text-align: right;\">\n",
       "      <th></th>\n",
       "      <th>IDF</th>\n",
       "    </tr>\n",
       "  </thead>\n",
       "  <tbody>\n",
       "    <tr>\n",
       "      <th>ửng</th>\n",
       "      <td>7.012900</td>\n",
       "    </tr>\n",
       "    <tr>\n",
       "      <th>bikini</th>\n",
       "      <td>7.012900</td>\n",
       "    </tr>\n",
       "    <tr>\n",
       "      <th>billboard</th>\n",
       "      <td>7.012900</td>\n",
       "    </tr>\n",
       "    <tr>\n",
       "      <th>grace</th>\n",
       "      <td>7.012900</td>\n",
       "    </tr>\n",
       "    <tr>\n",
       "      <th>viet</th>\n",
       "      <td>7.012900</td>\n",
       "    </tr>\n",
       "    <tr>\n",
       "      <th>...</th>\n",
       "      <td>...</td>\n",
       "    </tr>\n",
       "    <tr>\n",
       "      <th>nhất</th>\n",
       "      <td>1.555444</td>\n",
       "    </tr>\n",
       "    <tr>\n",
       "      <th>như</th>\n",
       "      <td>1.553314</td>\n",
       "    </tr>\n",
       "    <tr>\n",
       "      <th>trước</th>\n",
       "      <td>1.547657</td>\n",
       "    </tr>\n",
       "    <tr>\n",
       "      <th>thành</th>\n",
       "      <td>1.542031</td>\n",
       "    </tr>\n",
       "    <tr>\n",
       "      <th>cũng</th>\n",
       "      <td>1.523274</td>\n",
       "    </tr>\n",
       "  </tbody>\n",
       "</table>\n",
       "<p>4825 rows × 1 columns</p>\n",
       "</div>"
      ],
      "text/plain": [
       "                IDF\n",
       "ửng        7.012900\n",
       "bikini     7.012900\n",
       "billboard  7.012900\n",
       "grace      7.012900\n",
       "viet       7.012900\n",
       "...             ...\n",
       "nhất       1.555444\n",
       "như        1.553314\n",
       "trước      1.547657\n",
       "thành      1.542031\n",
       "cũng       1.523274\n",
       "\n",
       "[4825 rows x 1 columns]"
      ]
     },
     "execution_count": 15,
     "metadata": {},
     "output_type": "execute_result"
    }
   ],
   "source": [
    "tfidf = TfidfVectorizer(analyzer='word', ngram_range=(1, 1), min_df=5, max_df=0.6)\n",
    "tfidf.fit_transform(data_raw_df['Nội dung văn bản'])\n",
    "feature_names = tfidf.get_feature_names()\n",
    "\n",
    "document_vector=tfidf.idf_\n",
    "\n",
    "#print the scores \n",
    "df = pd.DataFrame(document_vector, index=feature_names, columns=[\"IDF\"])\n",
    "df.sort_values(by=[\"IDF\"],ascending=False)"
   ]
  },
  {
   "cell_type": "markdown",
   "metadata": {},
   "source": [
    "Như ta thấy là ta đã xóa được rất nhiều từ và đúng theo ý muốn của ta. Bây giờ ta sẽ bắt tay vào các bước tiền xử lý và xây dựng mô hình!"
   ]
  },
  {
   "cell_type": "markdown",
   "metadata": {},
   "source": [
    "---"
   ]
  },
  {
   "cell_type": "markdown",
   "metadata": {},
   "source": [
    "## Tiền xử lý dữ liệu"
   ]
  },
  {
   "cell_type": "markdown",
   "metadata": {},
   "source": [
    "Xóa đi những dòng có số kí tự ít hơn 100 (Có thể có những dòng không lấy được dữ liệu vì không giống định dạng mẫu)"
   ]
  },
  {
   "cell_type": "code",
   "execution_count": 16,
   "metadata": {},
   "outputs": [
    {
     "data": {
      "text/plain": [
       "(2069, 2)"
      ]
     },
     "execution_count": 16,
     "metadata": {},
     "output_type": "execute_result"
    }
   ],
   "source": [
    "data_df.drop(data_df[data_df['Nội dung văn bản'].map(len) < 1000].index, inplace = True)\n",
    "#Dữ liệu sau khi xóa.\n",
    "data_df.shape"
   ]
  },
  {
   "cell_type": "markdown",
   "metadata": {},
   "source": [
    "Ta sẽ chuyển cột Output `Chủ đề` thành dạng số"
   ]
  },
  {
   "cell_type": "code",
   "execution_count": 17,
   "metadata": {
    "scrolled": true
   },
   "outputs": [
    {
     "data": {
      "text/html": [
       "<div>\n",
       "<style scoped>\n",
       "    .dataframe tbody tr th:only-of-type {\n",
       "        vertical-align: middle;\n",
       "    }\n",
       "\n",
       "    .dataframe tbody tr th {\n",
       "        vertical-align: top;\n",
       "    }\n",
       "\n",
       "    .dataframe thead th {\n",
       "        text-align: right;\n",
       "    }\n",
       "</style>\n",
       "<table border=\"1\" class=\"dataframe\">\n",
       "  <thead>\n",
       "    <tr style=\"text-align: right;\">\n",
       "      <th></th>\n",
       "      <th>Nội dung văn bản</th>\n",
       "      <th>Chủ đề</th>\n",
       "    </tr>\n",
       "  </thead>\n",
       "  <tbody>\n",
       "    <tr>\n",
       "      <th>0</th>\n",
       "      <td>Bắn thuốc_mê di_dời đàn khỉ trong khu dân_cư S...</td>\n",
       "      <td>7</td>\n",
       "    </tr>\n",
       "    <tr>\n",
       "      <th>1</th>\n",
       "      <td>Lớp_học bằng ván gỗ cũ nát ở vùng_cao Lạng Sơn...</td>\n",
       "      <td>7</td>\n",
       "    </tr>\n",
       "    <tr>\n",
       "      <th>3</th>\n",
       "      <td>Sài_Gòn xuống 19 độ C Ảnh_hưởng không_khí lạnh...</td>\n",
       "      <td>7</td>\n",
       "    </tr>\n",
       "    <tr>\n",
       "      <th>5</th>\n",
       "      <td>Ông lão 72 tuổi vào đại_học TP HCMÔng Nguyễn V...</td>\n",
       "      <td>7</td>\n",
       "    </tr>\n",
       "    <tr>\n",
       "      <th>6</th>\n",
       "      <td>Hơn 1 000 gia_súc chết rét 1 080 con trâu_bò d...</td>\n",
       "      <td>7</td>\n",
       "    </tr>\n",
       "    <tr>\n",
       "      <th>...</th>\n",
       "      <td>...</td>\n",
       "      <td>...</td>\n",
       "    </tr>\n",
       "    <tr>\n",
       "      <th>2443</th>\n",
       "      <td>UNESCO công_nhận văn_hóa bán hàng rong là di_s...</td>\n",
       "      <td>0</td>\n",
       "    </tr>\n",
       "    <tr>\n",
       "      <th>2445</th>\n",
       "      <td>Vẻ đẹp nguyên_sơ của Hồ Tràm Bà_Rịa Vũng TàuCu...</td>\n",
       "      <td>0</td>\n",
       "    </tr>\n",
       "    <tr>\n",
       "      <th>2446</th>\n",
       "      <td>Lễ_hội áo_dài sắp diễn ra bên bờ sông Hương Th...</td>\n",
       "      <td>0</td>\n",
       "    </tr>\n",
       "    <tr>\n",
       "      <th>2449</th>\n",
       "      <td>Saigontourist_Group khuyến_mại lớn dịp Giáng_s...</td>\n",
       "      <td>0</td>\n",
       "    </tr>\n",
       "    <tr>\n",
       "      <th>2450</th>\n",
       "      <td>Lợi_ích khi là khách_hàng thân_thiết của công_...</td>\n",
       "      <td>0</td>\n",
       "    </tr>\n",
       "  </tbody>\n",
       "</table>\n",
       "<p>2069 rows × 2 columns</p>\n",
       "</div>"
      ],
      "text/plain": [
       "                                       Nội dung văn bản  Chủ đề\n",
       "0     Bắn thuốc_mê di_dời đàn khỉ trong khu dân_cư S...       7\n",
       "1     Lớp_học bằng ván gỗ cũ nát ở vùng_cao Lạng Sơn...       7\n",
       "3     Sài_Gòn xuống 19 độ C Ảnh_hưởng không_khí lạnh...       7\n",
       "5     Ông lão 72 tuổi vào đại_học TP HCMÔng Nguyễn V...       7\n",
       "6     Hơn 1 000 gia_súc chết rét 1 080 con trâu_bò d...       7\n",
       "...                                                 ...     ...\n",
       "2443  UNESCO công_nhận văn_hóa bán hàng rong là di_s...       0\n",
       "2445  Vẻ đẹp nguyên_sơ của Hồ Tràm Bà_Rịa Vũng TàuCu...       0\n",
       "2446  Lễ_hội áo_dài sắp diễn ra bên bờ sông Hương Th...       0\n",
       "2449  Saigontourist_Group khuyến_mại lớn dịp Giáng_s...       0\n",
       "2450  Lợi_ích khi là khách_hàng thân_thiết của công_...       0\n",
       "\n",
       "[2069 rows x 2 columns]"
      ]
     },
     "execution_count": 17,
     "metadata": {},
     "output_type": "execute_result"
    }
   ],
   "source": [
    "encoder = LabelEncoder()\n",
    "data_df['Chủ đề'] = encoder.fit_transform(data_df['Chủ đề'])\n",
    "data_df"
   ]
  },
  {
   "cell_type": "markdown",
   "metadata": {},
   "source": [
    "---"
   ]
  },
  {
   "cell_type": "markdown",
   "metadata": {},
   "source": [
    "## Tách dữ liệu + Mô hình hóa"
   ]
  },
  {
   "cell_type": "code",
   "execution_count": 18,
   "metadata": {},
   "outputs": [],
   "source": [
    "X_df = data_df['Nội dung văn bản']\n",
    "y_df = data_df['Chủ đề']\n",
    "#Tách dữ liệu thành tập train và tập test\n",
    "X_train, X_val, y_train, y_val = train_test_split(X_df, y_df, test_size=0.3,stratify = y_df, random_state=0)"
   ]
  },
  {
   "cell_type": "markdown",
   "metadata": {},
   "source": [
    "Tạo Pipeline"
   ]
  },
  {
   "cell_type": "code",
   "execution_count": 19,
   "metadata": {},
   "outputs": [],
   "source": [
    "process_pipeline = Pipeline([('tfidf',TfidfVectorizer(analyzer='word', ngram_range=(2, 3))),\n",
    "                             ('classifier',MultinomialNB())])"
   ]
  },
  {
   "cell_type": "markdown",
   "metadata": {},
   "source": [
    "### Tìm mô hình tốt nhất"
   ]
  },
  {
   "cell_type": "markdown",
   "metadata": {},
   "source": [
    "Tìm giá trị tốt nhất của hai siêu tham số `alpha`, `max_df` và `min_df`\n",
    "- Tham số `alpha` trong MultinomialNB.\n",
    "Khi tính xác suất có trường hợp p = 0. Do đó tử số sẽ cộng cho α để tránh trường hợp đó.\n",
    "- Tham số `max_df` trong TfidfVectorizer.\n",
    "Được sử dụng để xóa các cụm từ xuất hiện quá thường xuyên.\n",
    "- Tham số `min_df` trong TfidfVectorizer.\n",
    "Được sử dụng để xóa các cụm từ xuất hiện quá không thường xuyên."
   ]
  },
  {
   "cell_type": "code",
   "execution_count": 20,
   "metadata": {
    "lines_to_next_cell": 2
   },
   "outputs": [],
   "source": [
    "train_errs = []\n",
    "val_errs = []\n",
    "alphas = [0.05, 0.1, 0.5, 1]\n",
    "min_df_s = [2, 3, 5, 7] # min_df=2 tức là bỏ qua các từ xuất hiện trong ít hơn 2 mẫu dữ liệu\n",
    "max_df_s = [0.5, 0.6, 0.7, 0.8] # max_df=0.5 tức là bỏ qua các từ xuất hiện trong nhiều hơn 50% dữ liệu\n",
    "best_val_err = float('inf'); \n",
    "best_alpha = None;\n",
    "best_min_df = None\n",
    "best_max_df = None\n",
    "\n",
    "for alpha in alphas:\n",
    "    for min_df in min_df_s:\n",
    "        for max_df in max_df_s:\n",
    "            process_pipeline.set_params(tfidf__min_df = min_df,\n",
    "                                        tfidf__max_df = max_df,\n",
    "                                        classifier__alpha = alpha)\n",
    "            process_pipeline.fit(X_train, y_train)\n",
    "            train_score = (1 - process_pipeline.score(X_train, y_train))*100\n",
    "            val_score = (1 - process_pipeline.score(X_val, y_val))*100\n",
    "            train_errs.append(train_score)\n",
    "            val_errs.append(val_score)\n",
    "            if float(val_score) < best_val_err:\n",
    "                best_val_err = val_score\n",
    "                best_alpha = alpha\n",
    "                best_max_df = max_df\n",
    "                best_min_df = min_df"
   ]
  },
  {
   "cell_type": "markdown",
   "metadata": {},
   "source": [
    "Lấy `best_alpha`, `best_max_df`và `best_min_df` để huấn luyện mô hình"
   ]
  },
  {
   "cell_type": "code",
   "execution_count": 21,
   "metadata": {},
   "outputs": [
    {
     "data": {
      "text/plain": [
       "Pipeline(steps=[('tfidf',\n",
       "                 TfidfVectorizer(max_df=0.5, min_df=3, ngram_range=(2, 3))),\n",
       "                ('classifier', MultinomialNB(alpha=0.05))])"
      ]
     },
     "execution_count": 21,
     "metadata": {},
     "output_type": "execute_result"
    }
   ],
   "source": [
    "process_pipeline.set_params(tfidf__max_df = best_max_df,\n",
    "                            tfidf__min_df = best_min_df,\n",
    "                            classifier__alpha = best_alpha)\n",
    "process_pipeline.fit(X_train, y_train)"
   ]
  },
  {
   "cell_type": "markdown",
   "metadata": {},
   "source": [
    "Kết quả dự đoán tập huấn luyện"
   ]
  },
  {
   "cell_type": "code",
   "execution_count": 22,
   "metadata": {},
   "outputs": [
    {
     "data": {
      "text/plain": [
       "0.9958563535911602"
      ]
     },
     "execution_count": 22,
     "metadata": {},
     "output_type": "execute_result"
    }
   ],
   "source": [
    "train_predictions = process_pipeline.predict(X_train)\n",
    "accuracy_score(train_predictions, y_train)"
   ]
  },
  {
   "cell_type": "markdown",
   "metadata": {},
   "source": [
    "Kết quả dự đoán tập validation"
   ]
  },
  {
   "cell_type": "code",
   "execution_count": 23,
   "metadata": {},
   "outputs": [
    {
     "data": {
      "text/plain": [
       "0.92914653784219"
      ]
     },
     "execution_count": 23,
     "metadata": {},
     "output_type": "execute_result"
    }
   ],
   "source": [
    "val_predictions = process_pipeline.predict(X_val)\n",
    "accuracy_score(val_predictions, y_val)"
   ]
  },
  {
   "cell_type": "markdown",
   "metadata": {},
   "source": [
    "### Mô hình tốt nhất"
   ]
  },
  {
   "cell_type": "code",
   "execution_count": 24,
   "metadata": {},
   "outputs": [
    {
     "data": {
      "text/plain": [
       "Pipeline(steps=[('tfidf',\n",
       "                 TfidfVectorizer(max_df=0.5, min_df=3, ngram_range=(2, 3))),\n",
       "                ('classifier', MultinomialNB(alpha=0.05))])"
      ]
     },
     "execution_count": 24,
     "metadata": {},
     "output_type": "execute_result"
    }
   ],
   "source": [
    "process_pipeline.fit(X_df, y_df)"
   ]
  },
  {
   "cell_type": "markdown",
   "metadata": {},
   "source": [
    "### Sử dụng mô hình tốt nhất để dự đoán tập test"
   ]
  },
  {
   "cell_type": "markdown",
   "metadata": {},
   "source": [
    "Dữ liệu test được lấy từ trang web https://vietnamnet.vn/"
   ]
  },
  {
   "cell_type": "markdown",
   "metadata": {},
   "source": [
    "Đầu tiên ta lấy dữ liệu tập test đã thu thập được từ file `test.csv`"
   ]
  },
  {
   "cell_type": "code",
   "execution_count": 25,
   "metadata": {},
   "outputs": [
    {
     "data": {
      "text/html": [
       "<div>\n",
       "<style scoped>\n",
       "    .dataframe tbody tr th:only-of-type {\n",
       "        vertical-align: middle;\n",
       "    }\n",
       "\n",
       "    .dataframe tbody tr th {\n",
       "        vertical-align: top;\n",
       "    }\n",
       "\n",
       "    .dataframe thead th {\n",
       "        text-align: right;\n",
       "    }\n",
       "</style>\n",
       "<table border=\"1\" class=\"dataframe\">\n",
       "  <thead>\n",
       "    <tr style=\"text-align: right;\">\n",
       "      <th></th>\n",
       "      <th>Nội dung văn bản</th>\n",
       "      <th>Chủ đề</th>\n",
       "    </tr>\n",
       "  </thead>\n",
       "  <tbody>\n",
       "    <tr>\n",
       "      <th>0</th>\n",
       "      <td>Công an huyện Thanh Trì  Hà Nội hôm nay  15 1 ...</td>\n",
       "      <td>thoi-su</td>\n",
       "    </tr>\n",
       "    <tr>\n",
       "      <th>1</th>\n",
       "      <td>Lắp đặt hệ thống điện mặt trời áp mái để phục ...</td>\n",
       "      <td>thoi-su</td>\n",
       "    </tr>\n",
       "    <tr>\n",
       "      <th>2</th>\n",
       "      <td>“Trong mọi trường hợp  người Việt Nam nhập cản...</td>\n",
       "      <td>thoi-su</td>\n",
       "    </tr>\n",
       "    <tr>\n",
       "      <th>3</th>\n",
       "      <td>Công an thị xã Sa Pa  Lào Cai  đang làm rõ nam...</td>\n",
       "      <td>thoi-su</td>\n",
       "    </tr>\n",
       "    <tr>\n",
       "      <th>4</th>\n",
       "      <td>Bị can Nguyễn Thành Mỹ  đồng phạm với ông Lê T...</td>\n",
       "      <td>thoi-su</td>\n",
       "    </tr>\n",
       "    <tr>\n",
       "      <th>...</th>\n",
       "      <td>...</td>\n",
       "      <td>...</td>\n",
       "    </tr>\n",
       "    <tr>\n",
       "      <th>680</th>\n",
       "      <td>Làng Tiebele trở thành địa điểm du lịch hấp dẫ...</td>\n",
       "      <td>du-lich</td>\n",
       "    </tr>\n",
       "    <tr>\n",
       "      <th>681</th>\n",
       "      <td>Mới đây  công trình này bị liệt trong danh sác...</td>\n",
       "      <td>du-lich</td>\n",
       "    </tr>\n",
       "    <tr>\n",
       "      <th>682</th>\n",
       "      <td>Ở tuổi 14  bạn bè và gia đình Nikhil Kamath có...</td>\n",
       "      <td>du-lich</td>\n",
       "    </tr>\n",
       "    <tr>\n",
       "      <th>683</th>\n",
       "      <td>“Tôi thực sự thích làm những việc bình thường ...</td>\n",
       "      <td>du-lich</td>\n",
       "    </tr>\n",
       "    <tr>\n",
       "      <th>684</th>\n",
       "      <td>Không khó nhận diện tình yêu chân thành trong ...</td>\n",
       "      <td>du-lich</td>\n",
       "    </tr>\n",
       "  </tbody>\n",
       "</table>\n",
       "<p>685 rows × 2 columns</p>\n",
       "</div>"
      ],
      "text/plain": [
       "                                      Nội dung văn bản   Chủ đề\n",
       "0    Công an huyện Thanh Trì  Hà Nội hôm nay  15 1 ...  thoi-su\n",
       "1    Lắp đặt hệ thống điện mặt trời áp mái để phục ...  thoi-su\n",
       "2    “Trong mọi trường hợp  người Việt Nam nhập cản...  thoi-su\n",
       "3    Công an thị xã Sa Pa  Lào Cai  đang làm rõ nam...  thoi-su\n",
       "4    Bị can Nguyễn Thành Mỹ  đồng phạm với ông Lê T...  thoi-su\n",
       "..                                                 ...      ...\n",
       "680  Làng Tiebele trở thành địa điểm du lịch hấp dẫ...  du-lich\n",
       "681  Mới đây  công trình này bị liệt trong danh sác...  du-lich\n",
       "682  Ở tuổi 14  bạn bè và gia đình Nikhil Kamath có...  du-lich\n",
       "683  “Tôi thực sự thích làm những việc bình thường ...  du-lich\n",
       "684  Không khó nhận diện tình yêu chân thành trong ...  du-lich\n",
       "\n",
       "[685 rows x 2 columns]"
      ]
     },
     "execution_count": 25,
     "metadata": {},
     "output_type": "execute_result"
    }
   ],
   "source": [
    "data_test_df = pd.read_csv('Test.txt', index_col = 0)\n",
    "data_test_df"
   ]
  },
  {
   "cell_type": "markdown",
   "metadata": {},
   "source": [
    "Sau đó ta thực hiện tách từ trong dữ liệu bằng hàm `split_word` tương tự như ở trên"
   ]
  },
  {
   "cell_type": "code",
   "execution_count": 26,
   "metadata": {},
   "outputs": [
    {
     "data": {
      "text/html": [
       "<div>\n",
       "<style scoped>\n",
       "    .dataframe tbody tr th:only-of-type {\n",
       "        vertical-align: middle;\n",
       "    }\n",
       "\n",
       "    .dataframe tbody tr th {\n",
       "        vertical-align: top;\n",
       "    }\n",
       "\n",
       "    .dataframe thead th {\n",
       "        text-align: right;\n",
       "    }\n",
       "</style>\n",
       "<table border=\"1\" class=\"dataframe\">\n",
       "  <thead>\n",
       "    <tr style=\"text-align: right;\">\n",
       "      <th></th>\n",
       "      <th>Nội dung văn bản</th>\n",
       "      <th>Chủ đề</th>\n",
       "    </tr>\n",
       "  </thead>\n",
       "  <tbody>\n",
       "    <tr>\n",
       "      <th>0</th>\n",
       "      <td>Công_an huyện Thanh_Trì Hà_Nội hôm_nay 15 1 ch...</td>\n",
       "      <td>thoi-su</td>\n",
       "    </tr>\n",
       "    <tr>\n",
       "      <th>1</th>\n",
       "      <td>Lắp_đặt hệ_thống điện mặt_trời áp mái để phục_...</td>\n",
       "      <td>thoi-su</td>\n",
       "    </tr>\n",
       "    <tr>\n",
       "      <th>2</th>\n",
       "      <td>“ Trong mọi trường_hợp người Việt_Nam nhập_cản...</td>\n",
       "      <td>thoi-su</td>\n",
       "    </tr>\n",
       "    <tr>\n",
       "      <th>3</th>\n",
       "      <td>Công_an thị_xã Sa_Pa Lào_Cai đang làm rõ nam t...</td>\n",
       "      <td>thoi-su</td>\n",
       "    </tr>\n",
       "    <tr>\n",
       "      <th>4</th>\n",
       "      <td>Bị_can Nguyễn Thành Mỹ đồng_phạm với ông Lê_Tấ...</td>\n",
       "      <td>thoi-su</td>\n",
       "    </tr>\n",
       "    <tr>\n",
       "      <th>...</th>\n",
       "      <td>...</td>\n",
       "      <td>...</td>\n",
       "    </tr>\n",
       "    <tr>\n",
       "      <th>680</th>\n",
       "      <td>Làng Tiebele trở_thành địa_điểm du_lịch hấp_dẫ...</td>\n",
       "      <td>du-lich</td>\n",
       "    </tr>\n",
       "    <tr>\n",
       "      <th>681</th>\n",
       "      <td>Mới_đây công_trình này bị liệt trong danh_sách...</td>\n",
       "      <td>du-lich</td>\n",
       "    </tr>\n",
       "    <tr>\n",
       "      <th>682</th>\n",
       "      <td>Ở tuổi 14 bạn_bè và gia_đình Nikhil Kamath có_...</td>\n",
       "      <td>du-lich</td>\n",
       "    </tr>\n",
       "    <tr>\n",
       "      <th>683</th>\n",
       "      <td>“ Tôi thực_sự thích làm những việc bình_thường...</td>\n",
       "      <td>du-lich</td>\n",
       "    </tr>\n",
       "    <tr>\n",
       "      <th>684</th>\n",
       "      <td>Không khó nhận_diện tình_yêu chân_thành trong ...</td>\n",
       "      <td>du-lich</td>\n",
       "    </tr>\n",
       "  </tbody>\n",
       "</table>\n",
       "<p>685 rows × 2 columns</p>\n",
       "</div>"
      ],
      "text/plain": [
       "                                      Nội dung văn bản   Chủ đề\n",
       "0    Công_an huyện Thanh_Trì Hà_Nội hôm_nay 15 1 ch...  thoi-su\n",
       "1    Lắp_đặt hệ_thống điện mặt_trời áp mái để phục_...  thoi-su\n",
       "2    “ Trong mọi trường_hợp người Việt_Nam nhập_cản...  thoi-su\n",
       "3    Công_an thị_xã Sa_Pa Lào_Cai đang làm rõ nam t...  thoi-su\n",
       "4    Bị_can Nguyễn Thành Mỹ đồng_phạm với ông Lê_Tấ...  thoi-su\n",
       "..                                                 ...      ...\n",
       "680  Làng Tiebele trở_thành địa_điểm du_lịch hấp_dẫ...  du-lich\n",
       "681  Mới_đây công_trình này bị liệt trong danh_sách...  du-lich\n",
       "682  Ở tuổi 14 bạn_bè và gia_đình Nikhil Kamath có_...  du-lich\n",
       "683  “ Tôi thực_sự thích làm những việc bình_thường...  du-lich\n",
       "684  Không khó nhận_diện tình_yêu chân_thành trong ...  du-lich\n",
       "\n",
       "[685 rows x 2 columns]"
      ]
     },
     "execution_count": 26,
     "metadata": {},
     "output_type": "execute_result"
    }
   ],
   "source": [
    "data_test_df = split_word(data_test_df)\n",
    "data_test_df"
   ]
  },
  {
   "cell_type": "markdown",
   "metadata": {},
   "source": [
    "Xóa đi những dòng không lấy được dữ liệu"
   ]
  },
  {
   "cell_type": "code",
   "execution_count": 27,
   "metadata": {},
   "outputs": [
    {
     "data": {
      "text/plain": [
       "(685, 2)"
      ]
     },
     "execution_count": 27,
     "metadata": {},
     "output_type": "execute_result"
    }
   ],
   "source": [
    "data_test_df.drop(data_test_df[data_test_df['Nội dung văn bản'].map(len) == 0].index, inplace = True)\n",
    "data_test_df.shape"
   ]
  },
  {
   "cell_type": "markdown",
   "metadata": {},
   "source": [
    "Cuối cùng ta dự đoán kết quả tập dữ liệu test và tính tỉ lệ chính xác"
   ]
  },
  {
   "cell_type": "code",
   "execution_count": 28,
   "metadata": {},
   "outputs": [
    {
     "data": {
      "text/plain": [
       "0.8145985401459854"
      ]
     },
     "execution_count": 28,
     "metadata": {},
     "output_type": "execute_result"
    }
   ],
   "source": [
    "test_X_df = data_test_df['Nội dung văn bản']\n",
    "test_y_df = data_test_df['Chủ đề']\n",
    "test_y_df = encoder.transform(test_y_df)\n",
    "test_predictions = process_pipeline.predict(test_X_df)\n",
    "accuracy_score(test_predictions, test_y_df)"
   ]
  }
 ],
 "metadata": {
  "jupytext": {
   "encoding": "# -*- coding: utf-8 -*-"
  },
  "kernelspec": {
   "display_name": "Python 3",
   "language": "python",
   "name": "python3"
  },
  "language_info": {
   "codemirror_mode": {
    "name": "ipython",
    "version": 3
   },
   "file_extension": ".py",
   "mimetype": "text/x-python",
   "name": "python",
   "nbconvert_exporter": "python",
   "pygments_lexer": "ipython3",
   "version": "3.8.5"
  }
 },
 "nbformat": 4,
 "nbformat_minor": 4
}
